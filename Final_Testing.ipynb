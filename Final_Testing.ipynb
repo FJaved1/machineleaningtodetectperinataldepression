{
 "cells": [
  {
   "cell_type": "code",
   "execution_count": 1,
   "metadata": {},
   "outputs": [
    {
     "name": "stderr",
     "output_type": "stream",
     "text": [
      "c:\\users\\hp\\appdata\\local\\programs\\python\\python37\\lib\\site-packages\\sklearn\\utils\\deprecation.py:144: FutureWarning: The sklearn.neighbors.base module is  deprecated in version 0.22 and will be removed in version 0.24. The corresponding classes / functions should instead be imported from sklearn.neighbors. Anything that cannot be imported from sklearn.neighbors is now part of the private API.\n",
      "  warnings.warn(message, FutureWarning)\n",
      "c:\\users\\hp\\appdata\\local\\programs\\python\\python37\\lib\\site-packages\\sklearn\\utils\\deprecation.py:144: FutureWarning: The sklearn.ensemble.bagging module is  deprecated in version 0.22 and will be removed in version 0.24. The corresponding classes / functions should instead be imported from sklearn.ensemble. Anything that cannot be imported from sklearn.ensemble is now part of the private API.\n",
      "  warnings.warn(message, FutureWarning)\n",
      "c:\\users\\hp\\appdata\\local\\programs\\python\\python37\\lib\\site-packages\\sklearn\\utils\\deprecation.py:144: FutureWarning: The sklearn.ensemble.base module is  deprecated in version 0.22 and will be removed in version 0.24. The corresponding classes / functions should instead be imported from sklearn.ensemble. Anything that cannot be imported from sklearn.ensemble is now part of the private API.\n",
      "  warnings.warn(message, FutureWarning)\n",
      "c:\\users\\hp\\appdata\\local\\programs\\python\\python37\\lib\\site-packages\\sklearn\\utils\\deprecation.py:144: FutureWarning: The sklearn.ensemble.forest module is  deprecated in version 0.22 and will be removed in version 0.24. The corresponding classes / functions should instead be imported from sklearn.ensemble. Anything that cannot be imported from sklearn.ensemble is now part of the private API.\n",
      "  warnings.warn(message, FutureWarning)\n",
      "Using TensorFlow backend.\n",
      "c:\\users\\hp\\appdata\\local\\programs\\python\\python37\\lib\\site-packages\\tensorflow\\python\\framework\\dtypes.py:526: FutureWarning: Passing (type, 1) or '1type' as a synonym of type is deprecated; in a future version of numpy, it will be understood as (type, (1,)) / '(1,)type'.\n",
      "  _np_qint8 = np.dtype([(\"qint8\", np.int8, 1)])\n",
      "c:\\users\\hp\\appdata\\local\\programs\\python\\python37\\lib\\site-packages\\tensorflow\\python\\framework\\dtypes.py:527: FutureWarning: Passing (type, 1) or '1type' as a synonym of type is deprecated; in a future version of numpy, it will be understood as (type, (1,)) / '(1,)type'.\n",
      "  _np_quint8 = np.dtype([(\"quint8\", np.uint8, 1)])\n",
      "c:\\users\\hp\\appdata\\local\\programs\\python\\python37\\lib\\site-packages\\tensorflow\\python\\framework\\dtypes.py:528: FutureWarning: Passing (type, 1) or '1type' as a synonym of type is deprecated; in a future version of numpy, it will be understood as (type, (1,)) / '(1,)type'.\n",
      "  _np_qint16 = np.dtype([(\"qint16\", np.int16, 1)])\n",
      "c:\\users\\hp\\appdata\\local\\programs\\python\\python37\\lib\\site-packages\\tensorflow\\python\\framework\\dtypes.py:529: FutureWarning: Passing (type, 1) or '1type' as a synonym of type is deprecated; in a future version of numpy, it will be understood as (type, (1,)) / '(1,)type'.\n",
      "  _np_quint16 = np.dtype([(\"quint16\", np.uint16, 1)])\n",
      "c:\\users\\hp\\appdata\\local\\programs\\python\\python37\\lib\\site-packages\\tensorflow\\python\\framework\\dtypes.py:530: FutureWarning: Passing (type, 1) or '1type' as a synonym of type is deprecated; in a future version of numpy, it will be understood as (type, (1,)) / '(1,)type'.\n",
      "  _np_qint32 = np.dtype([(\"qint32\", np.int32, 1)])\n",
      "c:\\users\\hp\\appdata\\local\\programs\\python\\python37\\lib\\site-packages\\tensorflow\\python\\framework\\dtypes.py:535: FutureWarning: Passing (type, 1) or '1type' as a synonym of type is deprecated; in a future version of numpy, it will be understood as (type, (1,)) / '(1,)type'.\n",
      "  np_resource = np.dtype([(\"resource\", np.ubyte, 1)])\n",
      "c:\\users\\hp\\appdata\\local\\programs\\python\\python37\\lib\\site-packages\\sklearn\\utils\\deprecation.py:144: FutureWarning: The sklearn.utils.testing module is  deprecated in version 0.22 and will be removed in version 0.24. The corresponding classes / functions should instead be imported from sklearn.utils. Anything that cannot be imported from sklearn.utils is now part of the private API.\n",
      "  warnings.warn(message, FutureWarning)\n",
      "c:\\users\\hp\\appdata\\local\\programs\\python\\python37\\lib\\site-packages\\sklearn\\utils\\deprecation.py:144: FutureWarning: The sklearn.metrics.classification module is  deprecated in version 0.22 and will be removed in version 0.24. The corresponding classes / functions should instead be imported from sklearn.metrics. Anything that cannot be imported from sklearn.metrics is now part of the private API.\n",
      "  warnings.warn(message, FutureWarning)\n"
     ]
    }
   ],
   "source": [
    "import numpy as np\n",
    "import pandas as pd\n",
    "import matplotlib.pyplot as plt\n",
    "%matplotlib inline\n",
    "from sklearn.metrics import classification_report\n",
    "from sklearn.preprocessing import LabelEncoder\n",
    "from sklearn.metrics import confusion_matrix\n",
    "from sklearn.metrics import precision_score\n",
    "from sklearn import preprocessing\n",
    "from sklearn.model_selection import cross_val_score\n",
    "from sklearn.preprocessing import StandardScaler\n",
    "from sklearn.preprocessing import RobustScaler\n",
    "from sklearn.model_selection import StratifiedKFold\n",
    "from sklearn.model_selection import KFold\n",
    "from sklearn.model_selection import train_test_split\n",
    "from sklearn.preprocessing import StandardScaler, OneHotEncoder\n",
    "from sklearn.metrics import accuracy_score\n",
    "from sklearn.metrics import roc_auc_score\n",
    "from sklearn.metrics import f1_score\n",
    "from sklearn.metrics import recall_score\n",
    "from sklearn.metrics import precision_score\n",
    "from sklearn import metrics\n",
    "from sklearn.ensemble import RandomForestClassifier\n",
    "from imblearn.over_sampling import RandomOverSampler\n",
    "from collections import Counter\n",
    "import xgboost\n",
    "from xgboost import XGBClassifier\n",
    "from sklearn.model_selection import GridSearchCV\n",
    "from lightgbm import LGBMClassifier\n",
    "from imblearn.ensemble import EasyEnsembleClassifier\n",
    "import numpy as np\n",
    "import pandas as pd\n",
    "import matplotlib.pyplot as plt\n",
    "%matplotlib inline\n",
    "\n",
    "from sklearn.metrics import classification_report\n",
    "from sklearn.preprocessing import LabelEncoder\n",
    "from sklearn.metrics import confusion_matrix\n",
    "from sklearn.metrics import precision_score\n",
    "from sklearn import preprocessing\n",
    "from sklearn.model_selection import cross_val_score\n",
    "from sklearn.preprocessing import StandardScaler\n",
    "from sklearn.preprocessing import RobustScaler\n",
    "from sklearn.model_selection import StratifiedKFold\n",
    "from sklearn.model_selection import KFold\n",
    "from sklearn.preprocessing import OneHotEncoder\n",
    "from sklearn.compose import ColumnTransformer\n",
    "from sklearn.preprocessing import StandardScaler, OneHotEncoder\n",
    "from sklearn.metrics import roc_curve\n",
    "from sklearn.metrics import auc\n",
    "from sklearn import svm"
   ]
  },
  {
   "cell_type": "code",
   "execution_count": 2,
   "metadata": {},
   "outputs": [],
   "source": [
    "# load dataset\n",
    "dataset = pd.read_csv(r\"C:\\Users\\HP\\Desktop\\Final_COP\\TrainN.csv\") \n",
    "dataset = dataset.drop('Unnamed: 0', axis = 1)"
   ]
  },
  {
   "cell_type": "code",
   "execution_count": 3,
   "metadata": {},
   "outputs": [],
   "source": [
    "X_train = dataset.drop(['PHQ'],axis=1).values #features = X arrays \n",
    "y_train = dataset['PHQ'].values #labels = y arrays"
   ]
  },
  {
   "cell_type": "code",
   "execution_count": 4,
   "metadata": {},
   "outputs": [],
   "source": [
    "# load dataset\n",
    "datasetT = pd.read_csv(r\"C:\\Users\\HP\\Desktop\\Final_COP\\TestN.csv\") \n",
    "datasetT = datasetT.drop('Unnamed: 0', axis = 1)"
   ]
  },
  {
   "cell_type": "code",
   "execution_count": 5,
   "metadata": {},
   "outputs": [],
   "source": [
    "X_test = datasetT.drop(['PHQ'],axis=1).values #features = X arrays \n",
    "y_test = datasetT['PHQ'].values #labels = y arrays"
   ]
  },
  {
   "cell_type": "code",
   "execution_count": 131,
   "metadata": {},
   "outputs": [],
   "source": [
    "#Train\n",
    "rfc = RandomForestClassifier(\n",
    "                       class_weight='balanced_subsample',max_features=  0.4934, min_samples_split=50,\n",
    "                       n_estimators=1927\n",
    "                       )"
   ]
  },
  {
   "cell_type": "code",
   "execution_count": 132,
   "metadata": {},
   "outputs": [
    {
     "name": "stdout",
     "output_type": "stream",
     "text": [
      "Validation data AUC:  0.7161199095022625\n",
      "Average precision-recall score: 0.79\n"
     ]
    },
    {
     "data": {
      "text/plain": [
       "Text(0.5,1,'2-class Precision-Recall curve: AP=0.79')"
      ]
     },
     "execution_count": 132,
     "metadata": {},
     "output_type": "execute_result"
    },
    {
     "data": {
      "image/png": "[encoded data removed]",
      "text/plain": [
       "<Figure size 432x288 with 1 Axes>"
      ]
     },
     "metadata": {
      "needs_background": "light"
     },
     "output_type": "display_data"
    },
    {
     "data": {
      "image/png": "[encoded data removed]",
      "text/plain": [
       "<Figure size 432x288 with 1 Axes>"
      ]
     },
     "metadata": {
      "needs_background": "light"
     },
     "output_type": "display_data"
    }
   ],
   "source": [
    "rfc.fit(X_train, y_train)\n",
    "ypred = rfc.predict(X_test)\n",
    "\n",
    "\n",
    "fpr, tpr, thresholds_keras = roc_curve(y_test,ypred)\n",
    "auc = auc(fpr, tpr)\n",
    "print('Validation data AUC: ', auc)\n",
    "\n",
    "# ROC curve of training data\n",
    "\n",
    "plt.figure(1)\n",
    "plt.plot([0, 1], [0, 1], 'k--')\n",
    "plt.plot(fpr, tpr, label='Random Forest Classifier (area = {:.3f})'.format(auc))\n",
    "plt.xlabel('False positive rate')\n",
    "plt.ylabel('True positive rate')\n",
    "plt.title('ROC curve')\n",
    "plt.legend(loc='best')\n",
    "#plt.savefig(\"AUC.png\", dpi = 600)"
   ]
  },
  {
   "cell_type": "code",
   "execution_count": 133,
   "metadata": {},
   "outputs": [],
   "source": [
    "tn, fp, fn, tp = confusion_matrix(y_test,ypred).ravel()\n",
    "recall = recall_score(y_test,ypred)\n",
    "specificity = (tn/(tn+fp))\n",
    "fpr = (fp/(fp+tn))\n",
    "fnr = (fn/(fn+tp))\n",
    "precision = precision_score(y_test,ypred)\n",
    "acc = accuracy_score(y_test, ypred)\n",
    "roc = roc_auc_score(y_test, ypred)\n",
    "f1 = f1_score(y_test, ypred)"
   ]
  },
  {
   "cell_type": "code",
   "execution_count": 134,
   "metadata": {
    "scrolled": true
   },
   "outputs": [
    {
     "name": "stdout",
     "output_type": "stream",
     "text": [
      "Accuracy = 74.627\n",
      "AUC-ROC = 71.612\n",
      "F1-Score = 81.041\n",
      "Precision = 81.955\n",
      "Sensitivity = 80.147\n",
      "Specificity = 63.077\n",
      "False Positive Rate = 36.923\n",
      "False Negative Rate = 19.853\n"
     ]
    }
   ],
   "source": [
    "print('Accuracy = %.3f' % (acc*100))\n",
    "print('AUC-ROC = %.3f' % (roc*100))\n",
    "print('F1-Score = %.3f' % (f1*100))\n",
    "print('Precision = %.3f' % (precision*100))\n",
    "print('Sensitivity = %.3f' % (recall*100))\n",
    "print('Specificity = %.3f' % (specificity*100))\n",
    "print('False Positive Rate = %.3f' % (fpr*100))\n",
    "print('False Negative Rate = %.3f' % (fnr*100))"
   ]
  },
  {
   "cell_type": "code",
   "execution_count": 108,
   "metadata": {},
   "outputs": [
    {
     "name": "stdout",
     "output_type": "stream",
     "text": [
      "              precision    recall  f1-score   support\n",
      "\n",
      "           0       0.60      0.60      0.60        65\n",
      "           1       0.81      0.81      0.81       136\n",
      "\n",
      "    accuracy                           0.74       201\n",
      "   macro avg       0.70      0.70      0.70       201\n",
      "weighted avg       0.74      0.74      0.74       201\n",
      "\n"
     ]
    }
   ],
   "source": [
    "print(classification_report(y_test, ypred))"
   ]
  },
  {
   "cell_type": "code",
   "execution_count": 109,
   "metadata": {},
   "outputs": [
    {
     "data": {
      "text/plain": [
       "array([[ 39,  26],\n",
       "       [ 26, 110]], dtype=int64)"
      ]
     },
     "execution_count": 109,
     "metadata": {},
     "output_type": "execute_result"
    }
   ],
   "source": [
    "confusion_matrix(y_test, ypred)"
   ]
  },
  {
   "cell_type": "code",
   "execution_count": 8,
   "metadata": {},
   "outputs": [
    {
     "name": "stdout",
     "output_type": "stream",
     "text": [
      "Estimated Accuracy 0.739 (0.007)\n",
      "Estimated AUC-ROC = 0.705 (0.009)\n",
      "Estimated F1-Score = 0.806 (0.005)\n",
      "Estimated Sensitivity = 0.802 (0.007)\n",
      "Estimated Specificity = 0.608 (0.017)\n",
      "Estimated Precision Score 0.811 (0.007)\n",
      "Estimated False Positive Rate 0.392 (0.017)\n",
      "Estimated False Negative Rate 0.198 (0.007)\n"
     ]
    }
   ],
   "source": [
    "n_folds = 10\n",
    "acc_scores, roc_scores, f1_scores, recall_scores, specificity_scores, precision_scores, fprS, fnrS = [],[],[],[],[],[],[],[]\n",
    "for x in range(n_folds):\n",
    "    \n",
    "    rfc = RandomForestClassifier(\n",
    "                       class_weight='balanced_subsample',max_features=  0.4934, min_samples_split=50,\n",
    "                       n_estimators=1927\n",
    "                       )\n",
    "\n",
    "    rfc.fit(X_train, y_train)\n",
    "    ypred = rfc.predict(X_test)\n",
    "    \n",
    "    tn, fp, fn, tp = confusion_matrix(y_test,ypred).ravel()\n",
    "    recall = recall_score(y_test,ypred)\n",
    "    specificity = (tn/(tn+fp))\n",
    "    fpr = (fp/(fp+tn))\n",
    "    fnr = (fn/(fn+tp))\n",
    "    precision = precision_score(y_test,ypred)\n",
    "    acc = accuracy_score(y_test, ypred)\n",
    "    roc = roc_auc_score(y_test, ypred)\n",
    "    f1 = f1_score(y_test, ypred)\n",
    "\n",
    "    acc_scores.append(acc)\n",
    "    roc_scores.append(roc)\n",
    "    f1_scores.append(f1)\n",
    "    recall_scores.append(recall)\n",
    "    specificity_scores.append(specificity)\n",
    "    precision_scores.append(precision)\n",
    "    fprS.append(fpr)\n",
    "    fnrS.append(fnr)\n",
    "\n",
    "print('Estimated Accuracy %.3f (%.3f)' % (np.mean(acc_scores), np.std(acc_scores)))\n",
    "print('Estimated AUC-ROC = %.3f (%.3f)' % (np.mean(roc_scores), np.std(roc_scores)))\n",
    "print('Estimated F1-Score = %.3f (%.3f)' % (np.mean(f1_scores), np.std(f1_scores)))\n",
    "print('Estimated Sensitivity = %.3f (%.3f)' % (np.mean(recall_scores), np.std(recall_scores)))\n",
    "print('Estimated Specificity = %.3f (%.3f)' % (np.mean(specificity_scores), np.std(specificity_scores)))\n",
    "print('Estimated Precision Score %.3f (%.3f)' % (np.mean(precision_scores), np.std(precision_scores)))\n",
    "print('Estimated False Positive Rate %.3f (%.3f)' % (np.mean(fprS), np.std(fprS)))\n",
    "print('Estimated False Negative Rate %.3f (%.3f)' % (np.mean(fnrS), np.std(fnrS)))"
   ]
  }
 ],
 "metadata": {
  "kernelspec": {
   "display_name": "Python 3",
   "language": "python",
   "name": "python3"
  },
  "language_info": {
   "codemirror_mode": {
    "name": "ipython",
    "version": 3
   },
   "file_extension": ".py",
   "mimetype": "text/x-python",
   "name": "python",
   "nbconvert_exporter": "python",
   "pygments_lexer": "ipython3",
   "version": "3.7.0"
  }
 },
 "nbformat": 4,
 "nbformat_minor": 2
}
