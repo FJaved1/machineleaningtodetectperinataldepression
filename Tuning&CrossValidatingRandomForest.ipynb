{
 "cells": [
  {
   "cell_type": "code",
   "execution_count": 1,
   "metadata": {},
   "outputs": [
    {
     "name": "stderr",
     "output_type": "stream",
     "text": [
      "c:\\users\\hp\\appdata\\local\\programs\\python\\python37\\lib\\site-packages\\sklearn\\utils\\deprecation.py:144: FutureWarning: The sklearn.neighbors.base module is  deprecated in version 0.22 and will be removed in version 0.24. The corresponding classes / functions should instead be imported from sklearn.neighbors. Anything that cannot be imported from sklearn.neighbors is now part of the private API.\n",
      "  warnings.warn(message, FutureWarning)\n",
      "c:\\users\\hp\\appdata\\local\\programs\\python\\python37\\lib\\site-packages\\sklearn\\utils\\deprecation.py:144: FutureWarning: The sklearn.ensemble.bagging module is  deprecated in version 0.22 and will be removed in version 0.24. The corresponding classes / functions should instead be imported from sklearn.ensemble. Anything that cannot be imported from sklearn.ensemble is now part of the private API.\n",
      "  warnings.warn(message, FutureWarning)\n",
      "c:\\users\\hp\\appdata\\local\\programs\\python\\python37\\lib\\site-packages\\sklearn\\utils\\deprecation.py:144: FutureWarning: The sklearn.ensemble.base module is  deprecated in version 0.22 and will be removed in version 0.24. The corresponding classes / functions should instead be imported from sklearn.ensemble. Anything that cannot be imported from sklearn.ensemble is now part of the private API.\n",
      "  warnings.warn(message, FutureWarning)\n",
      "c:\\users\\hp\\appdata\\local\\programs\\python\\python37\\lib\\site-packages\\sklearn\\utils\\deprecation.py:144: FutureWarning: The sklearn.ensemble.forest module is  deprecated in version 0.22 and will be removed in version 0.24. The corresponding classes / functions should instead be imported from sklearn.ensemble. Anything that cannot be imported from sklearn.ensemble is now part of the private API.\n",
      "  warnings.warn(message, FutureWarning)\n",
      "Using TensorFlow backend.\n",
      "c:\\users\\hp\\appdata\\local\\programs\\python\\python37\\lib\\site-packages\\tensorflow\\python\\framework\\dtypes.py:526: FutureWarning: Passing (type, 1) or '1type' as a synonym of type is deprecated; in a future version of numpy, it will be understood as (type, (1,)) / '(1,)type'.\n",
      "  _np_qint8 = np.dtype([(\"qint8\", np.int8, 1)])\n",
      "c:\\users\\hp\\appdata\\local\\programs\\python\\python37\\lib\\site-packages\\tensorflow\\python\\framework\\dtypes.py:527: FutureWarning: Passing (type, 1) or '1type' as a synonym of type is deprecated; in a future version of numpy, it will be understood as (type, (1,)) / '(1,)type'.\n",
      "  _np_quint8 = np.dtype([(\"quint8\", np.uint8, 1)])\n",
      "c:\\users\\hp\\appdata\\local\\programs\\python\\python37\\lib\\site-packages\\tensorflow\\python\\framework\\dtypes.py:528: FutureWarning: Passing (type, 1) or '1type' as a synonym of type is deprecated; in a future version of numpy, it will be understood as (type, (1,)) / '(1,)type'.\n",
      "  _np_qint16 = np.dtype([(\"qint16\", np.int16, 1)])\n",
      "c:\\users\\hp\\appdata\\local\\programs\\python\\python37\\lib\\site-packages\\tensorflow\\python\\framework\\dtypes.py:529: FutureWarning: Passing (type, 1) or '1type' as a synonym of type is deprecated; in a future version of numpy, it will be understood as (type, (1,)) / '(1,)type'.\n",
      "  _np_quint16 = np.dtype([(\"quint16\", np.uint16, 1)])\n",
      "c:\\users\\hp\\appdata\\local\\programs\\python\\python37\\lib\\site-packages\\tensorflow\\python\\framework\\dtypes.py:530: FutureWarning: Passing (type, 1) or '1type' as a synonym of type is deprecated; in a future version of numpy, it will be understood as (type, (1,)) / '(1,)type'.\n",
      "  _np_qint32 = np.dtype([(\"qint32\", np.int32, 1)])\n",
      "c:\\users\\hp\\appdata\\local\\programs\\python\\python37\\lib\\site-packages\\tensorflow\\python\\framework\\dtypes.py:535: FutureWarning: Passing (type, 1) or '1type' as a synonym of type is deprecated; in a future version of numpy, it will be understood as (type, (1,)) / '(1,)type'.\n",
      "  np_resource = np.dtype([(\"resource\", np.ubyte, 1)])\n",
      "c:\\users\\hp\\appdata\\local\\programs\\python\\python37\\lib\\site-packages\\sklearn\\utils\\deprecation.py:144: FutureWarning: The sklearn.utils.testing module is  deprecated in version 0.22 and will be removed in version 0.24. The corresponding classes / functions should instead be imported from sklearn.utils. Anything that cannot be imported from sklearn.utils is now part of the private API.\n",
      "  warnings.warn(message, FutureWarning)\n",
      "c:\\users\\hp\\appdata\\local\\programs\\python\\python37\\lib\\site-packages\\sklearn\\utils\\deprecation.py:144: FutureWarning: The sklearn.metrics.classification module is  deprecated in version 0.22 and will be removed in version 0.24. The corresponding classes / functions should instead be imported from sklearn.metrics. Anything that cannot be imported from sklearn.metrics is now part of the private API.\n",
      "  warnings.warn(message, FutureWarning)\n"
     ]
    }
   ],
   "source": [
    "import numpy as np\n",
    "import pandas as pd\n",
    "import matplotlib.pyplot as plt\n",
    "%matplotlib inline\n",
    "from sklearn.metrics import classification_report\n",
    "from sklearn.preprocessing import LabelEncoder\n",
    "from sklearn.metrics import confusion_matrix\n",
    "from sklearn.metrics import precision_score\n",
    "from sklearn import preprocessing\n",
    "from sklearn.model_selection import cross_val_score\n",
    "from sklearn.preprocessing import StandardScaler\n",
    "from sklearn.preprocessing import RobustScaler\n",
    "from sklearn.model_selection import StratifiedKFold\n",
    "from sklearn.model_selection import KFold\n",
    "from sklearn.model_selection import train_test_split\n",
    "from sklearn.preprocessing import StandardScaler, OneHotEncoder\n",
    "from sklearn.metrics import accuracy_score\n",
    "from sklearn.metrics import roc_auc_score\n",
    "from sklearn.metrics import f1_score\n",
    "from sklearn.metrics import recall_score\n",
    "from sklearn.metrics import precision_score\n",
    "from sklearn import metrics\n",
    "from sklearn.ensemble import RandomForestClassifier\n",
    "from imblearn.over_sampling import RandomOverSampler\n",
    "from collections import Counter\n",
    "from sklearn.ensemble import BaggingClassifier\n",
    "from sklearn.model_selection import RepeatedStratifiedKFold\n",
    "from numpy import mean\n",
    "from imblearn.ensemble import EasyEnsembleClassifier"
   ]
  },
  {
   "cell_type": "code",
   "execution_count": 2,
   "metadata": {},
   "outputs": [],
   "source": [
    "# load dataset\n",
    "dataset = pd.read_csv(r\"C:\\Users\\HP\\Desktop\\Final_COP\\TrainN.csv\") \n",
    "dataset = dataset.drop('Unnamed: 0', axis = 1)"
   ]
  },
  {
   "cell_type": "code",
   "execution_count": 3,
   "metadata": {},
   "outputs": [],
   "source": [
    "X = dataset.drop(['PHQ'],axis=1).values #features = X arrays \n",
    "y = dataset['PHQ'].values #labels = y arrays"
   ]
  },
  {
   "cell_type": "code",
   "execution_count": 4,
   "metadata": {},
   "outputs": [],
   "source": [
    "def evaluate_model(X_train, X_val, y_train, y_val):\n",
    "\n",
    "    rfc = RandomForestClassifier(class_weight='balanced_subsample',max_features=  0.4934,\n",
    "                       min_samples_split=50,\n",
    "                       n_estimators=1927)\n",
    "    rfc.fit(X_train, y_train)\n",
    "    ypred = rfc.predict(X_val)\n",
    "    \n",
    "    \n",
    "    tn, fp, fn, tp = confusion_matrix(y_val,ypred).ravel()\n",
    "    recall = recall_score(y_val,ypred)\n",
    "    specificity = (tn/(tn+fp))\n",
    "    precision = precision_score(y_val,ypred)\n",
    "    \n",
    "    acc = accuracy_score(y_val, ypred)\n",
    "    roc = roc_auc_score(y_val, ypred)\n",
    "    f1 = f1_score(y_val, ypred)\n",
    "    fpr = (fp/(fp+tn))\n",
    "    fnr = (fn/(fn+tp))\n",
    "    \n",
    "    return acc, roc, f1, recall, specificity, precision, fpr, fnr"
   ]
  },
  {
   "cell_type": "code",
   "execution_count": 5,
   "metadata": {},
   "outputs": [
    {
     "name": "stdout",
     "output_type": "stream",
     "text": [
      "Estimated Accuracy 0.674 (0.038)\n",
      "Estimated AUC-ROC = 0.637 (0.043)\n",
      "Estimated F1-Score = 0.754 (0.033)\n",
      "Estimated Sensitivity = 0.740 (0.056)\n",
      "Estimated Specificity = 0.535 (0.095)\n",
      "Estimated Precision Score 0.772 (0.034)\n",
      "Estimated False Positive Rate 0.465 (0.095)\n",
      "Estimated False Negative Rate 0.260 (0.056)\n"
     ]
    }
   ],
   "source": [
    "n_folds = 10\n",
    "acc_scores, roc_scores, f1_scores, recall_scores, specificity_scores, precision_scores, fprS, fnrS = [],[],[],[],[],[],[],[]\n",
    "skf = StratifiedKFold(n_splits=n_folds, shuffle=False)\n",
    "for train_idx, test_idx in skf.split(X, y):\n",
    "    \n",
    "    X_train, X_test = X[train_idx], X[test_idx]\n",
    "    y_train, y_test = y[train_idx], y[test_idx]\n",
    "\n",
    "    acc, roc, f1, recall, specificity, precision, fpr, fnr = evaluate_model(X_train, X_test, y_train, y_test)\n",
    "\n",
    "    acc_scores.append(acc)\n",
    "    roc_scores.append(roc)\n",
    "    f1_scores.append(f1)\n",
    "    recall_scores.append(recall)\n",
    "    specificity_scores.append(specificity)\n",
    "    precision_scores.append(precision)\n",
    "    fprS.append(fpr)\n",
    "    fnrS.append(fnr)\n",
    "\n",
    "print('Estimated Accuracy %.3f (%.3f)' % (np.mean(acc_scores), np.std(acc_scores)))\n",
    "print('Estimated AUC-ROC = %.3f (%.3f)' % (np.mean(roc_scores), np.std(roc_scores)))\n",
    "print('Estimated F1-Score = %.3f (%.3f)' % (np.mean(f1_scores), np.std(f1_scores)))\n",
    "print('Estimated Sensitivity = %.3f (%.3f)' % (np.mean(recall_scores), np.std(recall_scores)))\n",
    "print('Estimated Specificity = %.3f (%.3f)' % (np.mean(specificity_scores), np.std(specificity_scores)))\n",
    "print('Estimated Precision Score %.3f (%.3f)' % (np.mean(precision_scores), np.std(precision_scores)))\n",
    "print('Estimated False Positive Rate %.3f (%.3f)' % (np.mean(fprS), np.std(fprS)))\n",
    "print('Estimated False Negative Rate %.3f (%.3f)' % (np.mean(fnrS), np.std(fnrS)))"
   ]
  }
 ],
 "metadata": {
  "kernelspec": {
   "display_name": "Python 3",
   "language": "python",
   "name": "python3"
  },
  "language_info": {
   "codemirror_mode": {
    "name": "ipython",
    "version": 3
   },
   "file_extension": ".py",
   "mimetype": "text/x-python",
   "name": "python",
   "nbconvert_exporter": "python",
   "pygments_lexer": "ipython3",
   "version": "3.7.0"
  }
 },
 "nbformat": 4,
 "nbformat_minor": 2
}
